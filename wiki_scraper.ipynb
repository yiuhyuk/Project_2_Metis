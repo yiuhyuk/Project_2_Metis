{
 "cells": [
  {
   "cell_type": "code",
   "execution_count": 2,
   "metadata": {},
   "outputs": [],
   "source": [
    "from bs4 import BeautifulSoup\n",
    "import requests\n",
    "import re\n",
    "import pandas as pd\n",
    "import pickle"
   ]
  },
  {
   "cell_type": "code",
   "execution_count": 162,
   "metadata": {},
   "outputs": [],
   "source": [
    "page_link = 'https://en.wikipedia.org/wiki/List_of_S%26P_500_companies'\n",
    "page_response = requests.get(page_link, timeout=1000)\n",
    "page_content = BeautifulSoup(page_response.content)\n",
    "\n",
    "div_list = page_content.find(id='constituents').find_all('tr')"
   ]
  },
  {
   "cell_type": "code",
   "execution_count": 186,
   "metadata": {},
   "outputs": [],
   "source": [
    "# Get S&P 500 Constituents\n",
    "co_name, co_ticker, co_link, co_sector, co_sub_sector, co_address = [], [], [], [], [], []\n",
    "\n",
    "for idx, row in enumerate(div_list[1:]):\n",
    "    co_name.append(row.find_all('td')[1].text)\n",
    "    co_ticker.append(row.find_all('td')[0].text.replace('\\n',''))\n",
    "    co_link.append('https://en.wikipedia.org/' + row.find_all('td')[1].find('a').get('href'))\n",
    "    co_sector.append(row.find_all('td')[3].text)\n",
    "    co_sub_sector.append(row.find_all('td')[4].text)\n",
    "    co_address.append(row.find_all('td')[5].text)\n",
    "    \n",
    "extracted_df = pd.DataFrame([co_name, co_ticker, co_link, co_sector, co_sub_sector, co_address]).T\n",
    "extracted_df.rename({0: 'Name',\n",
    "                     1: 'Ticker',\n",
    "                     2: 'Wiki Link',\n",
    "                     3: 'Sector',\n",
    "                     4: 'Sub Sector',\n",
    "                     5: 'HQ Location'}, \n",
    "                    axis=1, inplace=True)"
   ]
  },
  {
   "cell_type": "code",
   "execution_count": 213,
   "metadata": {},
   "outputs": [],
   "source": [
    "# Scrape each company's wikipedia page for text\n",
    "\n",
    "body_text_list = []\n",
    "\n",
    "for i, row in extracted_df.iterrows():\n",
    "    page_link = row['Wiki Link']\n",
    "    page_response = requests.get(page_link, timeout=1000)\n",
    "    page_content = BeautifulSoup(page_response.content)\n",
    "\n",
    "    body_text = ''\n",
    "    for i in page_content.find_all('p'):\n",
    "        body_text += i.text\n",
    "    body_text_list.append(body_text)"
   ]
  },
  {
   "cell_type": "code",
   "execution_count": 214,
   "metadata": {},
   "outputs": [],
   "source": [
    "extracted_df['Body Text'] = body_text_list"
   ]
  },
  {
   "cell_type": "code",
   "execution_count": 216,
   "metadata": {},
   "outputs": [
    {
     "data": {
      "text/html": [
       "<div>\n",
       "<style scoped>\n",
       "    .dataframe tbody tr th:only-of-type {\n",
       "        vertical-align: middle;\n",
       "    }\n",
       "\n",
       "    .dataframe tbody tr th {\n",
       "        vertical-align: top;\n",
       "    }\n",
       "\n",
       "    .dataframe thead th {\n",
       "        text-align: right;\n",
       "    }\n",
       "</style>\n",
       "<table border=\"1\" class=\"dataframe\">\n",
       "  <thead>\n",
       "    <tr style=\"text-align: right;\">\n",
       "      <th></th>\n",
       "      <th>Name</th>\n",
       "      <th>Ticker</th>\n",
       "      <th>Wiki Link</th>\n",
       "      <th>Sector</th>\n",
       "      <th>Sub Sector</th>\n",
       "      <th>HQ Location</th>\n",
       "      <th>Body Text</th>\n",
       "    </tr>\n",
       "  </thead>\n",
       "  <tbody>\n",
       "    <tr>\n",
       "      <th>0</th>\n",
       "      <td>3M</td>\n",
       "      <td>MMM</td>\n",
       "      <td>https://en.wikipedia.org//wiki/3M</td>\n",
       "      <td>Industrials</td>\n",
       "      <td>Industrial Conglomerates</td>\n",
       "      <td>Saint Paul, Minnesota</td>\n",
       "      <td>\\nThe 3M Company is an American multinational ...</td>\n",
       "    </tr>\n",
       "    <tr>\n",
       "      <th>1</th>\n",
       "      <td>Abbott Laboratories</td>\n",
       "      <td>ABT</td>\n",
       "      <td>https://en.wikipedia.org//wiki/Abbott_Laborato...</td>\n",
       "      <td>Health Care</td>\n",
       "      <td>Health Care Equipment</td>\n",
       "      <td>North Chicago, Illinois</td>\n",
       "      <td>\\nAbbott Laboratories is an American multinati...</td>\n",
       "    </tr>\n",
       "    <tr>\n",
       "      <th>2</th>\n",
       "      <td>AbbVie</td>\n",
       "      <td>ABBV</td>\n",
       "      <td>https://en.wikipedia.org//wiki/AbbVie</td>\n",
       "      <td>Health Care</td>\n",
       "      <td>Pharmaceuticals</td>\n",
       "      <td>North Chicago, Illinois</td>\n",
       "      <td>AbbVie is an American publicly traded biopharm...</td>\n",
       "    </tr>\n",
       "    <tr>\n",
       "      <th>3</th>\n",
       "      <td>Abiomed</td>\n",
       "      <td>ABMD</td>\n",
       "      <td>https://en.wikipedia.org//wiki/Abiomed</td>\n",
       "      <td>Health Care</td>\n",
       "      <td>Health Care Equipment</td>\n",
       "      <td>Danvers, Massachusetts</td>\n",
       "      <td>Abiomed is a publicly-traded medical devices c...</td>\n",
       "    </tr>\n",
       "    <tr>\n",
       "      <th>4</th>\n",
       "      <td>Accenture</td>\n",
       "      <td>ACN</td>\n",
       "      <td>https://en.wikipedia.org//wiki/Accenture</td>\n",
       "      <td>Information Technology</td>\n",
       "      <td>IT Consulting &amp; Other Services</td>\n",
       "      <td>Dublin, Ireland</td>\n",
       "      <td>\\nAccenture plc is an Irish-based multinationa...</td>\n",
       "    </tr>\n",
       "  </tbody>\n",
       "</table>\n",
       "</div>"
      ],
      "text/plain": [
       "                  Name Ticker  \\\n",
       "0                   3M    MMM   \n",
       "1  Abbott Laboratories    ABT   \n",
       "2               AbbVie   ABBV   \n",
       "3              Abiomed   ABMD   \n",
       "4            Accenture    ACN   \n",
       "\n",
       "                                           Wiki Link                  Sector  \\\n",
       "0                  https://en.wikipedia.org//wiki/3M             Industrials   \n",
       "1  https://en.wikipedia.org//wiki/Abbott_Laborato...             Health Care   \n",
       "2              https://en.wikipedia.org//wiki/AbbVie             Health Care   \n",
       "3             https://en.wikipedia.org//wiki/Abiomed             Health Care   \n",
       "4           https://en.wikipedia.org//wiki/Accenture  Information Technology   \n",
       "\n",
       "                       Sub Sector              HQ Location  \\\n",
       "0        Industrial Conglomerates    Saint Paul, Minnesota   \n",
       "1           Health Care Equipment  North Chicago, Illinois   \n",
       "2                 Pharmaceuticals  North Chicago, Illinois   \n",
       "3           Health Care Equipment   Danvers, Massachusetts   \n",
       "4  IT Consulting & Other Services          Dublin, Ireland   \n",
       "\n",
       "                                           Body Text  \n",
       "0  \\nThe 3M Company is an American multinational ...  \n",
       "1  \\nAbbott Laboratories is an American multinati...  \n",
       "2  AbbVie is an American publicly traded biopharm...  \n",
       "3  Abiomed is a publicly-traded medical devices c...  \n",
       "4  \\nAccenture plc is an Irish-based multinationa...  "
      ]
     },
     "execution_count": 216,
     "metadata": {},
     "output_type": "execute_result"
    }
   ],
   "source": [
    "extracted_df.head()"
   ]
  },
  {
   "cell_type": "code",
   "execution_count": null,
   "metadata": {},
   "outputs": [],
   "source": []
  }
 ],
 "metadata": {
  "kernelspec": {
   "display_name": "Python 3",
   "language": "python",
   "name": "python3"
  },
  "language_info": {
   "codemirror_mode": {
    "name": "ipython",
    "version": 3
   },
   "file_extension": ".py",
   "mimetype": "text/x-python",
   "name": "python",
   "nbconvert_exporter": "python",
   "pygments_lexer": "ipython3",
   "version": "3.7.1"
  }
 },
 "nbformat": 4,
 "nbformat_minor": 2
}
